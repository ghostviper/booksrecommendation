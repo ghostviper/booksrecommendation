{
 "metadata": {
  "name": "DataMining Project"
 },
 "nbformat": 3,
 "nbformat_minor": 0,
 "worksheets": [
  {
   "cells": [
    {
     "cell_type": "code",
     "collapsed": false,
     "input": [
      "    import os\n",
      "\n",
      "# relative to parent dir\n",
      "DATA_FILES = {\"books\":\"/Users/sonali/Documents/Ischool/INFODMA/DataSets/BX-CSV-Dump/BX-Books.csv\",\n",
      "               \"ratings\":\"/Users/sonali/Documents/Ischool/INFODMA/DataSets/BX-CSV-Dump/BX-Book-Ratings.csv\",\n",
      "                \"users\":\"/Users/sonali/Documents/Ischool/INFODMA/DataSets/BX-CSV-Dump/BX-Users.csv\"}\n",
      "\n",
      "def file_path(key):\n",
      "    return os.path.join(os.pardir, DATA_FILES[key])"
     ],
     "language": "python",
     "metadata": {},
     "outputs": []
    },
    {
     "cell_type": "code",
     "collapsed": false,
     "input": [
      "\n",
      "import codecs\n",
      "import pandas as pd\n",
      "\n",
      "f = codecs.open(file_path(\"ratings\"), encoding='iso-8859-1')\n",
      "df_ratings = pd.read_csv(f,sep=';',header=0)\n",
      "df_ratings.rank"
     ],
     "language": "python",
     "metadata": {},
     "outputs": []
    },
    {
     "cell_type": "code",
     "collapsed": false,
     "input": [
      "import numpy as np\n",
      "df_ratings.set_index(df_ratings.ISBN,inplace=True, drop=False)"
     ],
     "language": "python",
     "metadata": {},
     "outputs": []
    },
    {
     "cell_type": "code",
     "collapsed": false,
     "input": [
      "m_nonzero = df_ratings[df_ratings[\"Book-Rating\"] > 0][\"Book-Rating\"].mean()\n",
      "m_nonzero"
     ],
     "language": "python",
     "metadata": {},
     "outputs": []
    },
    {
     "cell_type": "code",
     "collapsed": false,
     "input": [
      "med_nonzero = df_ratings[df_ratings[\"Book-Rating\"] > 0][\"Book-Rating\"].median()\n",
      "med_nonzero"
     ],
     "language": "python",
     "metadata": {},
     "outputs": []
    },
    {
     "cell_type": "code",
     "collapsed": false,
     "input": [
      "mod_nonzero = df_ratings[df_ratings[\"Book-Rating\"] > 0][\"Book-Rating\"]\n",
      "mod_nonzero.count()\n"
     ],
     "language": "python",
     "metadata": {},
     "outputs": []
    },
    {
     "cell_type": "code",
     "collapsed": false,
     "input": [
      "m_zero = df_ratings[df_ratings[\"Book-Rating\"] == 0][\"Book-Rating\"]\n",
      "m_zero.count()"
     ],
     "language": "python",
     "metadata": {},
     "outputs": []
    },
    {
     "cell_type": "code",
     "collapsed": false,
     "input": [
      "#Finding the mean books rated given\n",
      "new_df = df_ratings[df_ratings[\"Book-Rating\"] > 0][\"User-ID\"]\n",
      "new_df[:].value_counts().mean()\n",
      "#grouped.sum()['Book-Rating'][:5]\n",
      "#df = pd.DataFrame()\n",
      "#df= grouped.sum()['Book-Rating'][:]\n",
      "#df[:5]"
     ],
     "language": "python",
     "metadata": {},
     "outputs": []
    },
    {
     "cell_type": "code",
     "collapsed": false,
     "input": [
      "#Maximum number of books rated\n",
      "new_df.value_counts().max(),new_df.value_counts().min()"
     ],
     "language": "python",
     "metadata": {},
     "outputs": []
    },
    {
     "cell_type": "code",
     "collapsed": false,
     "input": [
      "new_df['User-ID'].value_counts().max()"
     ],
     "language": "python",
     "metadata": {},
     "outputs": []
    },
    {
     "cell_type": "code",
     "collapsed": false,
     "input": [
      "grouped = df_ratings.groupby('User-ID')\n",
      "grouped.sum()['Book-Rating'][:].to_csv(\"Test1.txt\",sep=\"\\t\")"
     ],
     "language": "python",
     "metadata": {},
     "outputs": []
    },
    {
     "cell_type": "code",
     "collapsed": false,
     "input": [],
     "language": "python",
     "metadata": {},
     "outputs": []
    },
    {
     "cell_type": "code",
     "collapsed": false,
     "input": [],
     "language": "python",
     "metadata": {},
     "outputs": []
    },
    {
     "cell_type": "code",
     "collapsed": false,
     "input": [
      "f = codecs.open(file_path(\"users\"), encoding='iso-8859-1')\n",
      "df_users = pd.read_csv(f,sep=';',header=0)\n",
      "df_users.rank"
     ],
     "language": "python",
     "metadata": {},
     "outputs": []
    },
    {
     "cell_type": "code",
     "collapsed": false,
     "input": [
      "df_users[df_users['User-ID'].str=='']"
     ],
     "language": "python",
     "metadata": {},
     "outputs": []
    },
    {
     "cell_type": "code",
     "collapsed": false,
     "input": [
      "df_users.Age.notnull().count()\n"
     ],
     "language": "python",
     "metadata": {},
     "outputs": []
    },
    {
     "cell_type": "code",
     "collapsed": false,
     "input": [
      "df_users.Location.notnull().count()"
     ],
     "language": "python",
     "metadata": {},
     "outputs": []
    },
    {
     "cell_type": "code",
     "collapsed": false,
     "input": [
      "df_users.count()"
     ],
     "language": "python",
     "metadata": {},
     "outputs": []
    },
    {
     "cell_type": "code",
     "collapsed": false,
     "input": [
      "clean_df = df_users['Age'].dropna()\n",
      "clean_df.mean()"
     ],
     "language": "python",
     "metadata": {},
     "outputs": []
    },
    {
     "cell_type": "code",
     "collapsed": false,
     "input": [
      "clean_df[:].max(), clean_df[:].min()"
     ],
     "language": "python",
     "metadata": {},
     "outputs": []
    },
    {
     "cell_type": "code",
     "collapsed": false,
     "input": [
      "import pandas as pd\n",
      "df = pd.DataFrame({'A' : ['foo', 'bar', 'foo', 'bar',\n",
      "                       'foo', 'bar', 'foo', 'foo'],\n",
      "                'B' : ['one', 'one', 'two', 'three',\n",
      "                     'two', 'two', 'one', 'three'],\n",
      "               'C' : [1,2,3,4,5,6,7,8], 'D' : [1,2,2,2,2,2,1,1]})\n",
      "df"
     ],
     "language": "python",
     "metadata": {},
     "outputs": [
      {
       "html": [
        "<div style=\"max-height:1000px;max-width:1500px;overflow:auto;\">\n",
        "<table border=\"1\" class=\"dataframe\">\n",
        "  <thead>\n",
        "    <tr style=\"text-align: right;\">\n",
        "      <th></th>\n",
        "      <th>A</th>\n",
        "      <th>B</th>\n",
        "      <th>C</th>\n",
        "      <th>D</th>\n",
        "    </tr>\n",
        "  </thead>\n",
        "  <tbody>\n",
        "    <tr>\n",
        "      <th>0</th>\n",
        "      <td> foo</td>\n",
        "      <td>   one</td>\n",
        "      <td> 1</td>\n",
        "      <td> 1</td>\n",
        "    </tr>\n",
        "    <tr>\n",
        "      <th>1</th>\n",
        "      <td> bar</td>\n",
        "      <td>   one</td>\n",
        "      <td> 2</td>\n",
        "      <td> 2</td>\n",
        "    </tr>\n",
        "    <tr>\n",
        "      <th>2</th>\n",
        "      <td> foo</td>\n",
        "      <td>   two</td>\n",
        "      <td> 3</td>\n",
        "      <td> 2</td>\n",
        "    </tr>\n",
        "    <tr>\n",
        "      <th>3</th>\n",
        "      <td> bar</td>\n",
        "      <td> three</td>\n",
        "      <td> 4</td>\n",
        "      <td> 2</td>\n",
        "    </tr>\n",
        "    <tr>\n",
        "      <th>4</th>\n",
        "      <td> foo</td>\n",
        "      <td>   two</td>\n",
        "      <td> 5</td>\n",
        "      <td> 2</td>\n",
        "    </tr>\n",
        "    <tr>\n",
        "      <th>5</th>\n",
        "      <td> bar</td>\n",
        "      <td>   two</td>\n",
        "      <td> 6</td>\n",
        "      <td> 2</td>\n",
        "    </tr>\n",
        "    <tr>\n",
        "      <th>6</th>\n",
        "      <td> foo</td>\n",
        "      <td>   one</td>\n",
        "      <td> 7</td>\n",
        "      <td> 1</td>\n",
        "    </tr>\n",
        "    <tr>\n",
        "      <th>7</th>\n",
        "      <td> foo</td>\n",
        "      <td> three</td>\n",
        "      <td> 8</td>\n",
        "      <td> 1</td>\n",
        "    </tr>\n",
        "  </tbody>\n",
        "</table>\n",
        "</div>"
       ],
       "output_type": "pyout",
       "prompt_number": 2,
       "text": [
        "     A      B  C  D\n",
        "0  foo    one  1  1\n",
        "1  bar    one  2  2\n",
        "2  foo    two  3  2\n",
        "3  bar  three  4  2\n",
        "4  foo    two  5  2\n",
        "5  bar    two  6  2\n",
        "6  foo    one  7  1\n",
        "7  foo  three  8  1"
       ]
      }
     ],
     "prompt_number": 2
    },
    {
     "cell_type": "code",
     "collapsed": false,
     "input": [
      "grouped = df[['A','C']].groupby('A')\n",
      "grouped.sum()\n",
      "x = grouped.sum()['C']\n",
      "#x\n",
      "y = x[x.C >12]\n",
      "y"
     ],
     "language": "python",
     "metadata": {},
     "outputs": [
      {
       "html": [
        "<div style=\"max-height:1000px;max-width:1500px;overflow:auto;\">\n",
        "<table border=\"1\" class=\"dataframe\">\n",
        "  <thead>\n",
        "    <tr style=\"text-align: right;\">\n",
        "      <th></th>\n",
        "      <th>C</th>\n",
        "    </tr>\n",
        "    <tr>\n",
        "      <th>A</th>\n",
        "      <th></th>\n",
        "    </tr>\n",
        "  </thead>\n",
        "  <tbody>\n",
        "    <tr>\n",
        "      <th>bar</th>\n",
        "      <td> 12</td>\n",
        "    </tr>\n",
        "    <tr>\n",
        "      <th>foo</th>\n",
        "      <td> 24</td>\n",
        "    </tr>\n",
        "  </tbody>\n",
        "</table>\n",
        "</div>"
       ],
       "output_type": "pyout",
       "prompt_number": 12,
       "text": [
        "      C\n",
        "A      \n",
        "bar  12\n",
        "foo  24"
       ]
      }
     ],
     "prompt_number": 12
    },
    {
     "cell_type": "code",
     "collapsed": false,
     "input": [
      "rating = \"-0.11111111111111116\"\n",
      "y = float(rating)\n",
      "y"
     ],
     "language": "python",
     "metadata": {},
     "outputs": [
      {
       "output_type": "pyout",
       "prompt_number": 2,
       "text": [
        "-0.11111111111111116"
       ]
      }
     ],
     "prompt_number": 2
    },
    {
     "cell_type": "code",
     "collapsed": false,
     "input": [],
     "language": "python",
     "metadata": {},
     "outputs": []
    }
   ],
   "metadata": {}
  }
 ]
}