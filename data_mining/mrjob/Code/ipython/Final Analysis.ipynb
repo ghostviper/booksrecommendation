{
 "metadata": {
  "name": "Final Analysis"
 },
 "nbformat": 3,
 "nbformat_minor": 0,
 "worksheets": [
  {
   "cells": [
    {
     "cell_type": "code",
     "collapsed": false,
     "input": [
      "import sqlite3 as lite\n",
      "import os\n",
      "import sys\n",
      "from itertools import islice\n",
      "from pandas import DataFrame\n",
      "import numpy as np\n",
      "import matplotlib.pyplot as plt\n",
      "import matplotlib.mlab as mlab"
     ],
     "language": "python",
     "metadata": {},
     "outputs": [],
     "prompt_number": 3
    },
    {
     "cell_type": "heading",
     "level": 3,
     "metadata": {},
     "source": [
      "USA LOCATION ANALYSIS"
     ]
    },
    {
     "cell_type": "code",
     "collapsed": false,
     "input": [
      "#Connecting to database to get all user related data\n",
      "con = lite.connect(\"../../Database/Books.db\")\n",
      "con.text_factory = str\n",
      "c = con.cursor()\n",
      "query = \"SELECT u.UserID,u.location, u.age from BXUsers u where location like '%usa%'\"\n",
      "print query\n",
      "c.execute(query)\n",
      "rows = c.fetchall()\n",
      "df_users = DataFrame(rows,columns=['UserId','location','age'])\n",
      "df_users.set_index('UserId')"
     ],
     "language": "python",
     "metadata": {},
     "outputs": [
      {
       "output_type": "stream",
       "stream": "stdout",
       "text": [
        "SELECT u.UserID,u.location, u.age from BXUsers u where location like '%usa%'\n"
       ]
      },
      {
       "output_type": "pyout",
       "prompt_number": 39,
       "text": [
        "<class 'pandas.core.frame.DataFrame'>\n",
        "Int64Index: 139971 entries, 1 to 278857\n",
        "Data columns:\n",
        "location    139971  non-null values\n",
        "age         76669  non-null values\n",
        "dtypes: float64(1), object(1)"
       ]
      }
     ],
     "prompt_number": 39
    },
    {
     "cell_type": "heading",
     "level": 4,
     "metadata": {},
     "source": [
      "MAX and MIN age"
     ]
    },
    {
     "cell_type": "code",
     "collapsed": false,
     "input": [
      "#Find minimum and maximum ages \n",
      "print \"(min,max)\"\n",
      "df_users['age'].min(), df_users['age'].max()"
     ],
     "language": "python",
     "metadata": {},
     "outputs": [
      {
       "output_type": "stream",
       "stream": "stdout",
       "text": [
        "(min,max)\n"
       ]
      },
      {
       "output_type": "pyout",
       "prompt_number": 40,
       "text": [
        "(0.0, 237.0)"
       ]
      }
     ],
     "prompt_number": 40
    },
    {
     "cell_type": "heading",
     "level": 4,
     "metadata": {},
     "source": [
      "Age Distribution"
     ]
    },
    {
     "cell_type": "code",
     "collapsed": false,
     "input": [
      "#Plot the distribution of age\n",
      "plt.figure(0)\n",
      "plt.hist(df_users['age'], bins=np.arange(df_users['age'].min(), df_users['age'].max(), 5))"
     ],
     "language": "python",
     "metadata": {},
     "outputs": [
      {
       "output_type": "pyout",
       "prompt_number": 41,
       "text": [
        "(array([ 353,   96, 1382, 6537, 7628, 9151, 9778, 8793, 7600, 7152, 6846,\n",
        "       5138, 3075, 1704,  849,  321,  119,   20,   18,    6,   59,    3,\n",
        "          3,    7,    2,    1,    0,    1,    0,    5,    2,    3,    1,\n",
        "          1,    0,    1,    0,    0,    0,    1,    3,    2,    1,    1,\n",
        "          0,    5,    0]),\n",
        " array([   0.,    5.,   10.,   15.,   20.,   25.,   30.,   35.,   40.,\n",
        "         45.,   50.,   55.,   60.,   65.,   70.,   75.,   80.,   85.,\n",
        "         90.,   95.,  100.,  105.,  110.,  115.,  120.,  125.,  130.,\n",
        "        135.,  140.,  145.,  150.,  155.,  160.,  165.,  170.,  175.,\n",
        "        180.,  185.,  190.,  195.,  200.,  205.,  210.,  215.,  220.,\n",
        "        225.,  230.,  235.]),\n",
        " <a list of 47 Patch objects>)"
       ]
      },
      {
       "output_type": "display_data",
       "png": "[encoded data removed]"
      }
     ],
     "prompt_number": 41
    },
    {
     "cell_type": "heading",
     "level": 4,
     "metadata": {},
     "source": [
      "Mean age"
     ]
    },
    {
     "cell_type": "code",
     "collapsed": false,
     "input": [
      "#Find mean age\n",
      "mean_usa = df_users['age'].mean()\n",
      "mean_usa"
     ],
     "language": "python",
     "metadata": {},
     "outputs": [
      {
       "output_type": "pyout",
       "prompt_number": 46,
       "text": [
        "37.89514666944919"
       ]
      }
     ],
     "prompt_number": 46
    },
    {
     "cell_type": "heading",
     "level": 4,
     "metadata": {},
     "source": [
      "Standard deviation"
     ]
    },
    {
     "cell_type": "code",
     "collapsed": false,
     "input": [
      "#Find standard deviation\n",
      "std_usa = df_users['age'].std(axis=1)\n",
      "std_usa"
     ],
     "language": "python",
     "metadata": {},
     "outputs": [
      {
       "output_type": "pyout",
       "prompt_number": 47,
       "text": [
        "15.119432049277446"
       ]
      }
     ],
     "prompt_number": 47
    },
    {
     "cell_type": "code",
     "collapsed": false,
     "input": [
      "#function to calculate z score\n",
      "def zscore(age):\n",
      "    return (float(age)-mean_usa)/std_usa"
     ],
     "language": "python",
     "metadata": {},
     "outputs": [],
     "prompt_number": 48
    },
    {
     "cell_type": "heading",
     "level": 4,
     "metadata": {},
     "source": [
      "Z-score calculation"
     ]
    },
    {
     "cell_type": "code",
     "collapsed": false,
     "input": [
      "#create a new column in the dataframe to store z-score\n",
      "df_users['z_index']=df_users['age'].apply(zscore)"
     ],
     "language": "python",
     "metadata": {},
     "outputs": [],
     "prompt_number": 49
    },
    {
     "cell_type": "heading",
     "level": 4,
     "metadata": {},
     "source": [
      "Data frame with z-scores (displaying top 50)"
     ]
    },
    {
     "cell_type": "code",
     "collapsed": false,
     "input": [
      "#display dataframe\n",
      "df_users[:50]"
     ],
     "language": "python",
     "metadata": {},
     "outputs": [
      {
       "html": [
        "<div style=\"max-height:1000px;max-width:1500px;overflow:auto;\">\n",
        "<table border=\"1\" class=\"dataframe\">\n",
        "  <thead>\n",
        "    <tr style=\"text-align: right;\">\n",
        "      <th></th>\n",
        "      <th>UserId</th>\n",
        "      <th>location</th>\n",
        "      <th>age</th>\n",
        "      <th>z_index</th>\n",
        "    </tr>\n",
        "  </thead>\n",
        "  <tbody>\n",
        "    <tr>\n",
        "      <th>0 </th>\n",
        "      <td>  1</td>\n",
        "      <td>                  nyc, new york, usa</td>\n",
        "      <td>NaN</td>\n",
        "      <td>      NaN</td>\n",
        "    </tr>\n",
        "    <tr>\n",
        "      <th>1 </th>\n",
        "      <td>  2</td>\n",
        "      <td>           stockton, california, usa</td>\n",
        "      <td> 18</td>\n",
        "      <td>-1.315866</td>\n",
        "    </tr>\n",
        "    <tr>\n",
        "      <th>2 </th>\n",
        "      <td>  6</td>\n",
        "      <td>       santa monica, california, usa</td>\n",
        "      <td> 61</td>\n",
        "      <td> 1.528156</td>\n",
        "    </tr>\n",
        "    <tr>\n",
        "      <th>3 </th>\n",
        "      <td>  7</td>\n",
        "      <td>                 washington, dc, usa</td>\n",
        "      <td>NaN</td>\n",
        "      <td>      NaN</td>\n",
        "    </tr>\n",
        "    <tr>\n",
        "      <th>4 </th>\n",
        "      <td>  9</td>\n",
        "      <td>          germantown, tennessee, usa</td>\n",
        "      <td>NaN</td>\n",
        "      <td>      NaN</td>\n",
        "    </tr>\n",
        "    <tr>\n",
        "      <th>5 </th>\n",
        "      <td> 12</td>\n",
        "      <td>         fort bragg, california, usa</td>\n",
        "      <td>NaN</td>\n",
        "      <td>      NaN</td>\n",
        "    </tr>\n",
        "    <tr>\n",
        "      <th>6 </th>\n",
        "      <td> 14</td>\n",
        "      <td>               mediapolis, iowa, usa</td>\n",
        "      <td>NaN</td>\n",
        "      <td>      NaN</td>\n",
        "    </tr>\n",
        "    <tr>\n",
        "      <th>7 </th>\n",
        "      <td> 16</td>\n",
        "      <td>        albuquerque, new mexico, usa</td>\n",
        "      <td>NaN</td>\n",
        "      <td>      NaN</td>\n",
        "    </tr>\n",
        "    <tr>\n",
        "      <th>8 </th>\n",
        "      <td> 17</td>\n",
        "      <td>           chesapeake, virginia, usa</td>\n",
        "      <td>NaN</td>\n",
        "      <td>      NaN</td>\n",
        "    </tr>\n",
        "    <tr>\n",
        "      <th>9 </th>\n",
        "      <td> 20</td>\n",
        "      <td>        langhorne, pennsylvania, usa</td>\n",
        "      <td> 19</td>\n",
        "      <td>-1.249726</td>\n",
        "    </tr>\n",
        "    <tr>\n",
        "      <th>10</th>\n",
        "      <td> 23</td>\n",
        "      <td>     philadelphia, pennsylvania, usa</td>\n",
        "      <td>NaN</td>\n",
        "      <td>      NaN</td>\n",
        "    </tr>\n",
        "    <tr>\n",
        "      <th>11</th>\n",
        "      <td> 25</td>\n",
        "      <td>            oakland, california, usa</td>\n",
        "      <td> 55</td>\n",
        "      <td> 1.131316</td>\n",
        "    </tr>\n",
        "    <tr>\n",
        "      <th>12</th>\n",
        "      <td> 26</td>\n",
        "      <td>           bellevue, washington, usa</td>\n",
        "      <td>NaN</td>\n",
        "      <td>      NaN</td>\n",
        "    </tr>\n",
        "    <tr>\n",
        "      <th>13</th>\n",
        "      <td> 27</td>\n",
        "      <td>              chicago, illinois, usa</td>\n",
        "      <td> 32</td>\n",
        "      <td>-0.389905</td>\n",
        "    </tr>\n",
        "    <tr>\n",
        "      <th>14</th>\n",
        "      <td> 30</td>\n",
        "      <td>              anchorage, alaska, usa</td>\n",
        "      <td> 24</td>\n",
        "      <td>-0.919026</td>\n",
        "    </tr>\n",
        "    <tr>\n",
        "      <th>15</th>\n",
        "      <td> 32</td>\n",
        "      <td>               portland, oregon, usa</td>\n",
        "      <td>NaN</td>\n",
        "      <td>      NaN</td>\n",
        "    </tr>\n",
        "    <tr>\n",
        "      <th>16</th>\n",
        "      <td> 33</td>\n",
        "      <td>         costa mesa, california, usa</td>\n",
        "      <td> 34</td>\n",
        "      <td>-0.257625</td>\n",
        "    </tr>\n",
        "    <tr>\n",
        "      <th>17</th>\n",
        "      <td> 35</td>\n",
        "      <td>             grafton, wisconsin, usa</td>\n",
        "      <td> 17</td>\n",
        "      <td>-1.382006</td>\n",
        "    </tr>\n",
        "    <tr>\n",
        "      <th>18</th>\n",
        "      <td> 39</td>\n",
        "      <td>           cary, north carolina, usa</td>\n",
        "      <td>NaN</td>\n",
        "      <td>      NaN</td>\n",
        "    </tr>\n",
        "    <tr>\n",
        "      <th>19</th>\n",
        "      <td> 40</td>\n",
        "      <td>            tonawanda, new york, usa</td>\n",
        "      <td> 32</td>\n",
        "      <td>-0.389905</td>\n",
        "    </tr>\n",
        "    <tr>\n",
        "      <th>20</th>\n",
        "      <td> 41</td>\n",
        "      <td>             santee, california, usa</td>\n",
        "      <td> 14</td>\n",
        "      <td>-1.580426</td>\n",
        "    </tr>\n",
        "    <tr>\n",
        "      <th>21</th>\n",
        "      <td> 42</td>\n",
        "      <td>            appleton, wisconsin, usa</td>\n",
        "      <td> 17</td>\n",
        "      <td>-1.382006</td>\n",
        "    </tr>\n",
        "    <tr>\n",
        "      <th>22</th>\n",
        "      <td> 44</td>\n",
        "      <td> black mountain, north carolina, usa</td>\n",
        "      <td> 51</td>\n",
        "      <td> 0.866756</td>\n",
        "    </tr>\n",
        "    <tr>\n",
        "      <th>23</th>\n",
        "      <td> 48</td>\n",
        "      <td>              chicago, illinois, usa</td>\n",
        "      <td>NaN</td>\n",
        "      <td>      NaN</td>\n",
        "    </tr>\n",
        "    <tr>\n",
        "      <th>24</th>\n",
        "      <td> 51</td>\n",
        "      <td>             renton, washington, usa</td>\n",
        "      <td> 34</td>\n",
        "      <td>-0.257625</td>\n",
        "    </tr>\n",
        "    <tr>\n",
        "      <th>25</th>\n",
        "      <td> 53</td>\n",
        "      <td>             tacoma, washington, usa</td>\n",
        "      <td>NaN</td>\n",
        "      <td>      NaN</td>\n",
        "    </tr>\n",
        "    <tr>\n",
        "      <th>26</th>\n",
        "      <td> 54</td>\n",
        "      <td>               eubank, kentucky, usa</td>\n",
        "      <td> 44</td>\n",
        "      <td> 0.403775</td>\n",
        "    </tr>\n",
        "    <tr>\n",
        "      <th>27</th>\n",
        "      <td> 56</td>\n",
        "      <td>              cheyenne, wyoming, usa</td>\n",
        "      <td> 24</td>\n",
        "      <td>-0.919026</td>\n",
        "    </tr>\n",
        "    <tr>\n",
        "      <th>28</th>\n",
        "      <td> 59</td>\n",
        "      <td>      asheville, north carolina, usa</td>\n",
        "      <td> 23</td>\n",
        "      <td>-0.985166</td>\n",
        "    </tr>\n",
        "    <tr>\n",
        "      <th>29</th>\n",
        "      <td> 61</td>\n",
        "      <td>              winfield, alabama, usa</td>\n",
        "      <td> 30</td>\n",
        "      <td>-0.522185</td>\n",
        "    </tr>\n",
        "    <tr>\n",
        "      <th>30</th>\n",
        "      <td> 62</td>\n",
        "      <td>          kennewick, washington, usa</td>\n",
        "      <td>NaN</td>\n",
        "      <td>      NaN</td>\n",
        "    </tr>\n",
        "    <tr>\n",
        "      <th>31</th>\n",
        "      <td> 63</td>\n",
        "      <td>                nyack, new york, usa</td>\n",
        "      <td> 57</td>\n",
        "      <td> 1.263596</td>\n",
        "    </tr>\n",
        "    <tr>\n",
        "      <th>32</th>\n",
        "      <td> 67</td>\n",
        "      <td>      framingham, massachusetts, usa</td>\n",
        "      <td> 43</td>\n",
        "      <td> 0.337635</td>\n",
        "    </tr>\n",
        "    <tr>\n",
        "      <th>33</th>\n",
        "      <td> 70</td>\n",
        "      <td>            rochester, new york, usa</td>\n",
        "      <td> 44</td>\n",
        "      <td> 0.403775</td>\n",
        "    </tr>\n",
        "    <tr>\n",
        "      <th>34</th>\n",
        "      <td> 73</td>\n",
        "      <td>           wentzville, missouri, usa</td>\n",
        "      <td>NaN</td>\n",
        "      <td>      NaN</td>\n",
        "    </tr>\n",
        "    <tr>\n",
        "      <th>35</th>\n",
        "      <td> 75</td>\n",
        "      <td>         long beach, california, usa</td>\n",
        "      <td> 37</td>\n",
        "      <td>-0.059205</td>\n",
        "    </tr>\n",
        "    <tr>\n",
        "      <th>36</th>\n",
        "      <td> 76</td>\n",
        "      <td>     charleston, south carolina, usa</td>\n",
        "      <td>NaN</td>\n",
        "      <td>      NaN</td>\n",
        "    </tr>\n",
        "    <tr>\n",
        "      <th>37</th>\n",
        "      <td> 78</td>\n",
        "      <td>            oakland, california, usa</td>\n",
        "      <td> 18</td>\n",
        "      <td>-1.315866</td>\n",
        "    </tr>\n",
        "    <tr>\n",
        "      <th>38</th>\n",
        "      <td> 81</td>\n",
        "      <td>         santa cruz, california, usa</td>\n",
        "      <td>NaN</td>\n",
        "      <td>      NaN</td>\n",
        "    </tr>\n",
        "    <tr>\n",
        "      <th>39</th>\n",
        "      <td> 82</td>\n",
        "      <td>            del mar, california, usa</td>\n",
        "      <td>NaN</td>\n",
        "      <td>      NaN</td>\n",
        "    </tr>\n",
        "    <tr>\n",
        "      <th>40</th>\n",
        "      <td> 83</td>\n",
        "      <td>                 eugene, oregon, usa</td>\n",
        "      <td>NaN</td>\n",
        "      <td>      NaN</td>\n",
        "    </tr>\n",
        "    <tr>\n",
        "      <th>41</th>\n",
        "      <td> 84</td>\n",
        "      <td>          san diago, california, usa</td>\n",
        "      <td>NaN</td>\n",
        "      <td>      NaN</td>\n",
        "    </tr>\n",
        "    <tr>\n",
        "      <th>42</th>\n",
        "      <td> 86</td>\n",
        "      <td>        los angeles, california, usa</td>\n",
        "      <td>NaN</td>\n",
        "      <td>      NaN</td>\n",
        "    </tr>\n",
        "    <tr>\n",
        "      <th>43</th>\n",
        "      <td> 87</td>\n",
        "      <td>              richardson, texas, usa</td>\n",
        "      <td>NaN</td>\n",
        "      <td>      NaN</td>\n",
        "    </tr>\n",
        "    <tr>\n",
        "      <th>44</th>\n",
        "      <td> 88</td>\n",
        "      <td>          fayetteville, georgia, usa</td>\n",
        "      <td>NaN</td>\n",
        "      <td>      NaN</td>\n",
        "    </tr>\n",
        "    <tr>\n",
        "      <th>45</th>\n",
        "      <td> 89</td>\n",
        "      <td>                   plano, texas, usa</td>\n",
        "      <td> 54</td>\n",
        "      <td> 1.065176</td>\n",
        "    </tr>\n",
        "    <tr>\n",
        "      <th>46</th>\n",
        "      <td> 90</td>\n",
        "      <td>             powhatan, virginia, usa</td>\n",
        "      <td> 42</td>\n",
        "      <td> 0.271495</td>\n",
        "    </tr>\n",
        "    <tr>\n",
        "      <th>47</th>\n",
        "      <td> 93</td>\n",
        "      <td>                eden, wisconsin, usa</td>\n",
        "      <td> 50</td>\n",
        "      <td> 0.800616</td>\n",
        "    </tr>\n",
        "    <tr>\n",
        "      <th>48</th>\n",
        "      <td> 95</td>\n",
        "      <td>         grand island, new york, usa</td>\n",
        "      <td>NaN</td>\n",
        "      <td>      NaN</td>\n",
        "    </tr>\n",
        "    <tr>\n",
        "      <th>49</th>\n",
        "      <td> 97</td>\n",
        "      <td>    mechanicsburg, pennsylvania, usa</td>\n",
        "      <td>NaN</td>\n",
        "      <td>      NaN</td>\n",
        "    </tr>\n",
        "  </tbody>\n",
        "</table>\n",
        "</div>"
       ],
       "output_type": "pyout",
       "prompt_number": 53,
       "text": [
        "    UserId                             location  age   z_index\n",
        "0        1                   nyc, new york, usa  NaN       NaN\n",
        "1        2            stockton, california, usa   18 -1.315866\n",
        "2        6        santa monica, california, usa   61  1.528156\n",
        "3        7                  washington, dc, usa  NaN       NaN\n",
        "4        9           germantown, tennessee, usa  NaN       NaN\n",
        "5       12          fort bragg, california, usa  NaN       NaN\n",
        "6       14                mediapolis, iowa, usa  NaN       NaN\n",
        "7       16         albuquerque, new mexico, usa  NaN       NaN\n",
        "8       17            chesapeake, virginia, usa  NaN       NaN\n",
        "9       20         langhorne, pennsylvania, usa   19 -1.249726\n",
        "10      23      philadelphia, pennsylvania, usa  NaN       NaN\n",
        "11      25             oakland, california, usa   55  1.131316\n",
        "12      26            bellevue, washington, usa  NaN       NaN\n",
        "13      27               chicago, illinois, usa   32 -0.389905\n",
        "14      30               anchorage, alaska, usa   24 -0.919026\n",
        "15      32                portland, oregon, usa  NaN       NaN\n",
        "16      33          costa mesa, california, usa   34 -0.257625\n",
        "17      35              grafton, wisconsin, usa   17 -1.382006\n",
        "18      39            cary, north carolina, usa  NaN       NaN\n",
        "19      40             tonawanda, new york, usa   32 -0.389905\n",
        "20      41              santee, california, usa   14 -1.580426\n",
        "21      42             appleton, wisconsin, usa   17 -1.382006\n",
        "22      44  black mountain, north carolina, usa   51  0.866756\n",
        "23      48               chicago, illinois, usa  NaN       NaN\n",
        "24      51              renton, washington, usa   34 -0.257625\n",
        "25      53              tacoma, washington, usa  NaN       NaN\n",
        "26      54                eubank, kentucky, usa   44  0.403775\n",
        "27      56               cheyenne, wyoming, usa   24 -0.919026\n",
        "28      59       asheville, north carolina, usa   23 -0.985166\n",
        "29      61               winfield, alabama, usa   30 -0.522185\n",
        "30      62           kennewick, washington, usa  NaN       NaN\n",
        "31      63                 nyack, new york, usa   57  1.263596\n",
        "32      67       framingham, massachusetts, usa   43  0.337635\n",
        "33      70             rochester, new york, usa   44  0.403775\n",
        "34      73            wentzville, missouri, usa  NaN       NaN\n",
        "35      75          long beach, california, usa   37 -0.059205\n",
        "36      76      charleston, south carolina, usa  NaN       NaN\n",
        "37      78             oakland, california, usa   18 -1.315866\n",
        "38      81          santa cruz, california, usa  NaN       NaN\n",
        "39      82             del mar, california, usa  NaN       NaN\n",
        "40      83                  eugene, oregon, usa  NaN       NaN\n",
        "41      84           san diago, california, usa  NaN       NaN\n",
        "42      86         los angeles, california, usa  NaN       NaN\n",
        "43      87               richardson, texas, usa  NaN       NaN\n",
        "44      88           fayetteville, georgia, usa  NaN       NaN\n",
        "45      89                    plano, texas, usa   54  1.065176\n",
        "46      90              powhatan, virginia, usa   42  0.271495\n",
        "47      93                 eden, wisconsin, usa   50  0.800616\n",
        "48      95          grand island, new york, usa  NaN       NaN\n",
        "49      97     mechanicsburg, pennsylvania, usa  NaN       NaN"
       ]
      }
     ],
     "prompt_number": 53
    },
    {
     "cell_type": "heading",
     "level": 4,
     "metadata": {},
     "source": [
      "Minimum age within z-score -3 to +3"
     ]
    },
    {
     "cell_type": "code",
     "collapsed": false,
     "input": [
      "#display min age which is greater than -3.0 standard deviation\n",
      "df_users[df_users['z_index']>=-3.0][['age']].min()"
     ],
     "language": "python",
     "metadata": {},
     "outputs": [
      {
       "output_type": "pyout",
       "prompt_number": 60,
       "text": [
        "age    0"
       ]
      }
     ],
     "prompt_number": 60
    },
    {
     "cell_type": "heading",
     "level": 4,
     "metadata": {},
     "source": [
      "Maximum age within z-score -3 to +3"
     ]
    },
    {
     "cell_type": "code",
     "collapsed": false,
     "input": [
      "#display max age which is less than 3.0 standard deviation\n",
      "df_users[df_users['z_index']<=3.0][['age']].max()"
     ],
     "language": "python",
     "metadata": {},
     "outputs": [
      {
       "output_type": "pyout",
       "prompt_number": 61,
       "text": [
        "age    83"
       ]
      }
     ],
     "prompt_number": 61
    },
    {
     "cell_type": "heading",
     "level": 4,
     "metadata": {},
     "source": [
      "Replacing missing age by mean age"
     ]
    },
    {
     "cell_type": "code",
     "collapsed": false,
     "input": [
      "#query to replace missing age by mean age\n",
      "query_upd = \"update BXUsers set age=\"+str(mean_usa)+\" where age is null and location like '%usa%'\"\n",
      "print query_upd"
     ],
     "language": "python",
     "metadata": {},
     "outputs": [
      {
       "output_type": "stream",
       "stream": "stdout",
       "text": [
        "update BXUsers set age=37.8951466694 where age is null and location like '%usa%'\n"
       ]
      }
     ],
     "prompt_number": 63
    },
    {
     "cell_type": "code",
     "collapsed": false,
     "input": [
      "#replacing missinhg value by mean age\n",
      "c.execute(query_upd)\n",
      "con.commit()"
     ],
     "language": "python",
     "metadata": {},
     "outputs": [],
     "prompt_number": 64
    },
    {
     "cell_type": "heading",
     "level": 4,
     "metadata": {},
     "source": [
      "Selecting users after replacing missing age with mean age and fetching usa based  records"
     ]
    },
    {
     "cell_type": "code",
     "collapsed": false,
     "input": [
      "#Select all records after replacing null ages with mean age\n",
      "query = \"SELECT u.UserID,u.location, u.age from BXUsers u where location like '%usa%'\"\n",
      "print query\n",
      "c.execute(query)\n",
      "rows_new = c.fetchall()\n",
      "df_users_new = DataFrame(rows_new,columns=['UserId','location','age'])\n",
      "df_users_new.set_index('UserId')"
     ],
     "language": "python",
     "metadata": {},
     "outputs": [
      {
       "output_type": "stream",
       "stream": "stdout",
       "text": [
        "SELECT u.UserID,u.location, u.age from BXUsers u where location like '%usa%'\n"
       ]
      },
      {
       "output_type": "pyout",
       "prompt_number": 65,
       "text": [
        "<class 'pandas.core.frame.DataFrame'>\n",
        "Int64Index: 139971 entries, 1 to 278857\n",
        "Data columns:\n",
        "location    139971  non-null values\n",
        "age         139971  non-null values\n",
        "dtypes: float64(1), object(1)"
       ]
      }
     ],
     "prompt_number": 65
    },
    {
     "cell_type": "heading",
     "level": 4,
     "metadata": {},
     "source": [
      "Reploting distribution after replacing missing age"
     ]
    },
    {
     "cell_type": "code",
     "collapsed": false,
     "input": [
      "#plot distribution after updating ages\n",
      "plt.figure(0)\n",
      "plt.hist(df_users_new['age'], bins=np.arange(df_users_new['age'].min(), df_users_new['age'].max(), 5))"
     ],
     "language": "python",
     "metadata": {},
     "outputs": [
      {
       "output_type": "pyout",
       "prompt_number": 66,
       "text": [
        "(array([  353,    96,  1382,  6537,  7628,  9151,  9778, 72095,  7600,\n",
        "        7152,  6846,  5138,  3075,  1704,   849,   321,   119,    20,\n",
        "          18,     6,    59,     3,     3,     7,     2,     1,     0,\n",
        "           1,     0,     5,     2,     3,     1,     1,     0,     1,\n",
        "           0,     0,     0,     1,     3,     2,     1,     1,     0,\n",
        "           5,     0]),\n",
        " array([   0.,    5.,   10.,   15.,   20.,   25.,   30.,   35.,   40.,\n",
        "         45.,   50.,   55.,   60.,   65.,   70.,   75.,   80.,   85.,\n",
        "         90.,   95.,  100.,  105.,  110.,  115.,  120.,  125.,  130.,\n",
        "        135.,  140.,  145.,  150.,  155.,  160.,  165.,  170.,  175.,\n",
        "        180.,  185.,  190.,  195.,  200.,  205.,  210.,  215.,  220.,\n",
        "        225.,  230.,  235.]),\n",
        " <a list of 47 Patch objects>)"
       ]
      },
      {
       "output_type": "display_data",
       "png": "[encoded data removed]"
      }
     ],
     "prompt_number": 66
    },
    {
     "cell_type": "heading",
     "level": 4,
     "metadata": {},
     "source": [
      "New mean"
     ]
    },
    {
     "cell_type": "code",
     "collapsed": false,
     "input": [
      "#Find the new mean\n",
      "mean_usa_new = df_users_new['age'].mean()\n",
      "mean_usa_new"
     ],
     "language": "python",
     "metadata": {},
     "outputs": [
      {
       "output_type": "pyout",
       "prompt_number": 67,
       "text": [
        "37.895146669452686"
       ]
      }
     ],
     "prompt_number": 67
    },
    {
     "cell_type": "heading",
     "level": 4,
     "metadata": {},
     "source": [
      "New standard deviation"
     ]
    },
    {
     "cell_type": "code",
     "collapsed": false,
     "input": [
      "#find new standard deviation\n",
      "std_usa_new = df_users_new['age'].std(axis=1)\n",
      "std_usa_new"
     ],
     "language": "python",
     "metadata": {},
     "outputs": [
      {
       "output_type": "pyout",
       "prompt_number": 68,
       "text": [
        "11.189870572543851"
       ]
      }
     ],
     "prompt_number": 68
    },
    {
     "cell_type": "code",
     "collapsed": false,
     "input": [
      "#calculating z score\n",
      "def zscore_new(age):\n",
      "    return (float(age)-mean_usa_new)/std_usa_new"
     ],
     "language": "python",
     "metadata": {},
     "outputs": [],
     "prompt_number": 69
    },
    {
     "cell_type": "heading",
     "level": 4,
     "metadata": {},
     "source": [
      "z-score calculation after replacing missing age data"
     ]
    },
    {
     "cell_type": "code",
     "collapsed": false,
     "input": [
      "#create a separate coumn in dataframe to calculate z-score\n",
      "df_users_new['z_index']=df_users_new['age'].apply(zscore_new)"
     ],
     "language": "python",
     "metadata": {},
     "outputs": [],
     "prompt_number": 70
    },
    {
     "cell_type": "heading",
     "level": 4,
     "metadata": {},
     "source": [
      "Finding records which lie within -3.0 to +3.0 standard deviation"
     ]
    },
    {
     "cell_type": "code",
     "collapsed": false,
     "input": [
      "#find minimum age that fall within standard devaition -3.0 to 3.0\n",
      "df_users_new[df_users_new['z_index']>=-3.0][['age']].min()"
     ],
     "language": "python",
     "metadata": {},
     "outputs": [
      {
       "output_type": "pyout",
       "prompt_number": 72,
       "text": [
        "age    5"
       ]
      }
     ],
     "prompt_number": 72
    },
    {
     "cell_type": "code",
     "collapsed": false,
     "input": [
      "#find max age that fall within standard devaition -3.0 to 3.0\n",
      "df_users_new[df_users_new['z_index']<=3.0][['age']].max()"
     ],
     "language": "python",
     "metadata": {},
     "outputs": [
      {
       "output_type": "pyout",
       "prompt_number": 73,
       "text": [
        "age    71"
       ]
      }
     ],
     "prompt_number": 73
    },
    {
     "cell_type": "heading",
     "level": 3,
     "metadata": {},
     "source": [
      "NON USA LOCATION ANALYSIS"
     ]
    },
    {
     "cell_type": "code",
     "collapsed": false,
     "input": [
      "query_nonus = \"SELECT u.UserID,u.location, u.age from BXUsers u where location not like '%usa%'\"\n",
      "print query_nonus\n",
      "c.execute(query_nonus)\n",
      "rows_nonus = c.fetchall()\n",
      "df_usersnonus = DataFrame(rows_nonus,columns=['UserId','location','age'])\n",
      "df_usersnonus.set_index('UserId')"
     ],
     "language": "python",
     "metadata": {},
     "outputs": [
      {
       "output_type": "stream",
       "stream": "stdout",
       "text": [
        "SELECT u.UserID,u.location, u.age from BXUsers u where location not like '%usa%'\n"
       ]
      },
      {
       "output_type": "pyout",
       "prompt_number": 74,
       "text": [
        "<class 'pandas.core.frame.DataFrame'>\n",
        "Int64Index: 138887 entries, 3 to 278858\n",
        "Data columns:\n",
        "location    138887  non-null values\n",
        "age         91427  non-null values\n",
        "dtypes: float64(1), object(1)"
       ]
      }
     ],
     "prompt_number": 74
    },
    {
     "cell_type": "code",
     "collapsed": false,
     "input": [
      "mean_nonus= df_usersnonus['age'].mean()\n",
      "mean_nonus"
     ],
     "language": "python",
     "metadata": {},
     "outputs": [
      {
       "output_type": "pyout",
       "prompt_number": 76,
       "text": [
        "32.115173854550626"
       ]
      }
     ],
     "prompt_number": 76
    },
    {
     "cell_type": "code",
     "collapsed": false,
     "input": [
      "std_nonus= df_usersnonus['age'].std()\n",
      "std_nonus"
     ],
     "language": "python",
     "metadata": {},
     "outputs": [
      {
       "output_type": "pyout",
       "prompt_number": 78,
       "text": [
        "13.25913759334459"
       ]
      }
     ],
     "prompt_number": 78
    },
    {
     "cell_type": "code",
     "collapsed": false,
     "input": [
      "#query to replace missing age by mean age\n",
      "query_upd_nonus = \"update BXUsers set age=\"+str(mean_nonus)+\" where age is null and location not like '%usa%'\"\n",
      "print query_upd_nonus"
     ],
     "language": "python",
     "metadata": {},
     "outputs": [
      {
       "output_type": "stream",
       "stream": "stdout",
       "text": [
        "update BXUsers set age=32.1151738546 where age is null and location not like '%usa%'\n"
       ]
      }
     ],
     "prompt_number": 79
    },
    {
     "cell_type": "code",
     "collapsed": false,
     "input": [
      "#replacing missing value by mean age\n",
      "c.execute(query_upd_nonus)\n",
      "con.commit()"
     ],
     "language": "python",
     "metadata": {},
     "outputs": [],
     "prompt_number": 80
    },
    {
     "cell_type": "code",
     "collapsed": false,
     "input": [
      "def z_score_nonus(age):\n",
      "    return (float(age)-mean_nonus)/std_nonus"
     ],
     "language": "python",
     "metadata": {},
     "outputs": [],
     "prompt_number": 81
    },
    {
     "cell_type": "code",
     "collapsed": false,
     "input": [
      "#create a separate coumn in dataframe to calculate z-score\n",
      "df_usersnonus['z_index']=df_usersnonus['age'].apply(z_score_nonus)"
     ],
     "language": "python",
     "metadata": {},
     "outputs": [],
     "prompt_number": 82
    },
    {
     "cell_type": "code",
     "collapsed": false,
     "input": [
      "#find minimum age that fall within standard devaition -3.0 to 3.0\n",
      "df_usersnonus[df_usersnonus['z_index']>=-3.0][['age']].min()"
     ],
     "language": "python",
     "metadata": {},
     "outputs": [
      {
       "output_type": "pyout",
       "prompt_number": 83,
       "text": [
        "age    0"
       ]
      }
     ],
     "prompt_number": 83
    },
    {
     "cell_type": "code",
     "collapsed": false,
     "input": [
      "#find max age that fall within standard devaition -3.0 to 3.0\n",
      "df_usersnonus[df_usersnonus['z_index']<=3.0][['age']].max()"
     ],
     "language": "python",
     "metadata": {},
     "outputs": [
      {
       "output_type": "pyout",
       "prompt_number": 84,
       "text": [
        "age    71"
       ]
      }
     ],
     "prompt_number": 84
    },
    {
     "cell_type": "code",
     "collapsed": false,
     "input": [],
     "language": "python",
     "metadata": {},
     "outputs": []
    },
    {
     "cell_type": "code",
     "collapsed": false,
     "input": [],
     "language": "python",
     "metadata": {},
     "outputs": []
    }
   ],
   "metadata": {}
  }
 ]
}