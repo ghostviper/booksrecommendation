{
 "metadata": {
  "name": "Data Mining Part2"
 },
 "nbformat": 3,
 "nbformat_minor": 0,
 "worksheets": [
  {
   "cells": [
    {
     "cell_type": "code",
     "collapsed": false,
     "input": [
      "import os\n",
      "\n",
      "# relative to parent dir\n",
      "DATA_FILES = {\"books\":\"/Users/sonali/Documents/Ischool/INFODMA/DataSets/BX-CSV-Dump/BX-Books.csv\",\n",
      "               \"ratings\":\"/Users/sonali/Documents/Ischool/INFODMA/DataSets/BX-CSV-Dump/BX-Book-Ratings.csv\",\n",
      "                \"users\":\"/Users/sonali/Documents/Ischool/INFODMA/DataSets/BX-CSV-Dump/BX-Users.csv\"}\n",
      "\n",
      "def file_path(key):\n",
      "    return os.path.join(os.pardir, DATA_FILES[key])"
     ],
     "language": "python",
     "metadata": {},
     "outputs": []
    },
    {
     "cell_type": "code",
     "collapsed": false,
     "input": [
      "f = codecs.open(file_path(\"ratings\"), encoding='iso-8859-1')\n",
      "df_ratings = pd.read_csv(f,sep=';',header=0)"
     ],
     "language": "python",
     "metadata": {},
     "outputs": []
    },
    {
     "cell_type": "code",
     "collapsed": false,
     "input": [
      "df_ratings.columns"
     ],
     "language": "python",
     "metadata": {},
     "outputs": []
    },
    {
     "cell_type": "code",
     "collapsed": false,
     "input": [
      "#remove rows with ratings=0\n",
      "clean_rz = df_ratings[df_ratings['Book-Rating'] >0]\n",
      "clean_rz.to_csv(\"BooksRating.txt\",sep=\"\\t\")"
     ],
     "language": "python",
     "metadata": {},
     "outputs": []
    },
    {
     "cell_type": "code",
     "collapsed": false,
     "input": [
      "#Unique number of books rated\n",
      "import numpy as np\n",
      "clean_rz['ISBN'].unique().size"
     ],
     "language": "python",
     "metadata": {},
     "outputs": []
    },
    {
     "cell_type": "code",
     "collapsed": false,
     "input": [
      "#users who have given non 0 rating to atleast one book\n",
      "clean_rz['User-ID'].unique().size"
     ],
     "language": "python",
     "metadata": {},
     "outputs": []
    },
    {
     "cell_type": "code",
     "collapsed": false,
     "input": [
      "#Users who have rated atleast 50 books\n",
      "grouped_clean_rz = clean_rz.groupby('User-ID')['ISBN']\n",
      "tmp = grouped_clean_rz.count()\n",
      "fiftyormore = tmp[tmp > 250]\n",
      "fiftyormore"
     ],
     "language": "python",
     "metadata": {},
     "outputs": []
    },
    {
     "cell_type": "code",
     "collapsed": false,
     "input": [
      "#Adding users table to the database\n",
      "f1 = codecs.open(file_path(\"users\"), encoding='iso-8859-1')\n",
      "users_df = pd.read_csv(f1,sep=';',header=0)\n",
      "users_df.to_csv(\"Users.txt\", sep=\"\\t\")\n",
      "\n",
      "#Adding books table to the database\n",
      "f2 = codecs.open(file_path(\"books\"), encoding='iso-8859-1')\n",
      "users_df = pd.read_csv(f2,header=0)\n",
      "#users_df.to_csv(\"Books.txt\", sep=\"\\t\")"
     ],
     "language": "python",
     "metadata": {},
     "outputs": []
    },
    {
     "cell_type": "code",
     "collapsed": false,
     "input": [
      "import csv\n",
      "with open(file_path(\"books\"),\"rb\") as infile, open(\"usersfixed.csv\",\"wb\") as outfile:\n",
      "    reader = csv.reader(infile)\n",
      "    writer = csv.writer(outfile, quoting=csv.QUOTE_ALL)"
     ],
     "language": "python",
     "metadata": {},
     "outputs": [],
     "prompt_number": 72
    },
    {
     "cell_type": "code",
     "collapsed": false,
     "input": [
      "import sqlite3"
     ],
     "language": "python",
     "metadata": {},
     "outputs": []
    },
    {
     "cell_type": "code",
     "collapsed": false,
     "input": [
      "import sqlite3 as lite\n",
      "import sys\n",
      "\n",
      "con = None\n",
      "\n",
      "try:\n",
      "    con = lite.connect('Books.db')\n",
      "    \n",
      "    cur = con.cursor()    \n",
      "    cur.execute('SELECT SQLITE_VERSION()')\n",
      "    \n",
      "    data = cur.fetchone()\n",
      "    \n",
      "    print \"SQLite version: %s\" % data                \n",
      "    \n",
      "except lite.Error, e:\n",
      "    \n",
      "    print \"Error %s:\" % e.args[0]\n",
      "    sys.exit(1)\n",
      "    \n",
      "finally:\n",
      "    \n",
      "    if con:\n",
      "        con.close()"
     ],
     "language": "python",
     "metadata": {},
     "outputs": []
    },
    {
     "cell_type": "code",
     "collapsed": false,
     "input": [
      "t =  (1,2,3,4)\n",
      "x  = (3,5,8,9)\n",
      "z = ()\n",
      "z.add(t)\n",
      "z"
     ],
     "language": "python",
     "metadata": {},
     "outputs": []
    },
    {
     "cell_type": "code",
     "collapsed": false,
     "input": [
      "cars = [\n",
      "    [1, 'Audi', 52642],\n",
      "    [2, 'Mercedes', 57127],\n",
      "    [3, 'Skoda', 9000],\n",
      "    [4, 'Volvo', 29000],\n",
      "    [5, 'Bentley', 350000],\n",
      "    [6, 'Hummer', 41400],\n",
      "    [7, 'Volkswagen', 21600]\n",
      "]\n",
      "\n",
      "\n",
      "con = lite.connect('test.db')\n",
      "\n",
      "with con:\n",
      "    \n",
      "    cur = con.cursor()    \n",
      "    \n",
      "    cur.execute(\"DROP TABLE IF EXISTS Cars\")\n",
      "    cur.execute(\"CREATE TABLE Cars(Id INT, Name TEXT, Price INT)\")\n",
      "    cur.executemany(\"INSERT INTO Cars VALUES(?, ?, ?)\", cars)"
     ],
     "language": "python",
     "metadata": {},
     "outputs": []
    },
    {
     "cell_type": "code",
     "collapsed": false,
     "input": [],
     "language": "python",
     "metadata": {},
     "outputs": []
    },
    {
     "cell_type": "code",
     "collapsed": false,
     "input": [
      "#Adding data into booksrating table\n",
      "from itertools import islice\n",
      "readfile = codecs.open(\"BooksRating.txt\", encoding='iso-8859-1')\n",
      "t = [row.split(\"\\t\") for row in islice(readfile, None)]\n",
      "\n",
      "\n",
      "con = lite.connect('Books.db')\n",
      "\n",
      "with con:\n",
      "    \n",
      "    cur = con.cursor()    \n",
      "    \n",
      "    cur.executemany(\"INSERT INTO BooksRating VALUES(?, ?, ?,?)\", t)\n",
      "#for row in islice(readfile, None):\n",
      " #   [(row[\"fips\"], row) for row in islice(reader, None)]\n"
     ],
     "language": "python",
     "metadata": {},
     "outputs": []
    },
    {
     "cell_type": "code",
     "collapsed": false,
     "input": [
      "#Adding data into User table\n",
      "readfile = codecs.open(\"BX-Users.csv\", encoding='iso-8859-1')\n",
      "user = [row.split(\";\") for row in islice(readfile, None)]\n",
      "\n",
      "\n",
      "con = lite.connect('Books.db')\n",
      "\n",
      "with con:\n",
      "    \n",
      "    cur = con.cursor()    \n",
      "    cur.execute(\"DROP TABLE IF EXISTS Users\")\n",
      "    cur.execute(\"CREATE TABLE Users(Id INT, Location TEXT, Age INT)\")\n",
      "    cur.executemany(\"INSERT INTO Users VALUES(?, ?,?)\", user)\n"
     ],
     "language": "python",
     "metadata": {},
     "outputs": []
    },
    {
     "cell_type": "code",
     "collapsed": false,
     "input": [],
     "language": "python",
     "metadata": {},
     "outputs": []
    }
   ],
   "metadata": {}
  }
 ]
}